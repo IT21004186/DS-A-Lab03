{
  "nbformat": 4,
  "nbformat_minor": 0,
  "metadata": {
    "colab": {
      "provenance": [],
      "authorship_tag": "ABX9TyOMw346yLRkPRBAZ3ZLeQl8",
      "include_colab_link": true
    },
    "kernelspec": {
      "name": "python3",
      "display_name": "Python 3"
    },
    "language_info": {
      "name": "python"
    }
  },
  "cells": [
    {
      "cell_type": "markdown",
      "metadata": {
        "id": "view-in-github",
        "colab_type": "text"
      },
      "source": [
        "<a href=\"https://colab.research.google.com/github/IT21004186/DS-A-Lab03/blob/main/Lab01.ipynb\" target=\"_parent\"><img src=\"https://colab.research.google.com/assets/colab-badge.svg\" alt=\"Open In Colab\"/></a>"
      ]
    },
    {
      "cell_type": "code",
      "execution_count": 1,
      "metadata": {
        "id": "noLXZSMByby0"
      },
      "outputs": [],
      "source": [
        "import pandas as pd\n",
        "import numpy as np\n",
        "from matplotlib import pyplot as plt"
      ]
    },
    {
      "cell_type": "code",
      "source": [
        "raw_data = pd.read_csv(\"loan.csv\")"
      ],
      "metadata": {
        "id": "NaC6C7qBzjW9"
      },
      "execution_count": 2,
      "outputs": []
    },
    {
      "cell_type": "code",
      "source": [
        "raw_data.head()"
      ],
      "metadata": {
        "colab": {
          "base_uri": "https://localhost:8080/",
          "height": 342
        },
        "id": "HtBp85_ozoIt",
        "outputId": "ae434d17-a42b-4f3c-8c88-8a093e9ec089"
      },
      "execution_count": 3,
      "outputs": [
        {
          "output_type": "execute_result",
          "data": {
            "text/plain": [
              "   id  member_id  loan_amnt  funded_amnt  funded_amnt_inv        term  \\\n",
              "0 NaN        NaN       2500         2500             2500   36 months   \n",
              "1 NaN        NaN      30000        30000            30000   60 months   \n",
              "2 NaN        NaN       5000         5000             5000   36 months   \n",
              "3 NaN        NaN       4000         4000             4000   36 months   \n",
              "4 NaN        NaN      30000        30000            30000   60 months   \n",
              "\n",
              "   int_rate  installment grade sub_grade  ... hardship_payoff_balance_amount  \\\n",
              "0     13.56        84.92     C        C1  ...                            NaN   \n",
              "1     18.94       777.23     D        D2  ...                            NaN   \n",
              "2     17.97       180.69     D        D1  ...                            NaN   \n",
              "3     18.94       146.51     D        D2  ...                            NaN   \n",
              "4     16.14       731.78     C        C4  ...                            NaN   \n",
              "\n",
              "  hardship_last_payment_amount disbursement_method  debt_settlement_flag  \\\n",
              "0                          NaN                Cash                     N   \n",
              "1                          NaN                Cash                     N   \n",
              "2                          NaN                Cash                     N   \n",
              "3                          NaN                Cash                     N   \n",
              "4                          NaN                Cash                     N   \n",
              "\n",
              "  debt_settlement_flag_date settlement_status settlement_date  \\\n",
              "0                       NaN               NaN             NaN   \n",
              "1                       NaN               NaN             NaN   \n",
              "2                       NaN               NaN             NaN   \n",
              "3                       NaN               NaN             NaN   \n",
              "4                       NaN               NaN             NaN   \n",
              "\n",
              "  settlement_amount  settlement_percentage  settlement_term  \n",
              "0               NaN                    NaN              NaN  \n",
              "1               NaN                    NaN              NaN  \n",
              "2               NaN                    NaN              NaN  \n",
              "3               NaN                    NaN              NaN  \n",
              "4               NaN                    NaN              NaN  \n",
              "\n",
              "[5 rows x 142 columns]"
            ],
            "text/html": [
              "\n",
              "  <div id=\"df-1442136b-7c45-4e5f-bc9e-18576250556a\" class=\"colab-df-container\">\n",
              "    <div>\n",
              "<style scoped>\n",
              "    .dataframe tbody tr th:only-of-type {\n",
              "        vertical-align: middle;\n",
              "    }\n",
              "\n",
              "    .dataframe tbody tr th {\n",
              "        vertical-align: top;\n",
              "    }\n",
              "\n",
              "    .dataframe thead th {\n",
              "        text-align: right;\n",
              "    }\n",
              "</style>\n",
              "<table border=\"1\" class=\"dataframe\">\n",
              "  <thead>\n",
              "    <tr style=\"text-align: right;\">\n",
              "      <th></th>\n",
              "      <th>id</th>\n",
              "      <th>member_id</th>\n",
              "      <th>loan_amnt</th>\n",
              "      <th>funded_amnt</th>\n",
              "      <th>funded_amnt_inv</th>\n",
              "      <th>term</th>\n",
              "      <th>int_rate</th>\n",
              "      <th>installment</th>\n",
              "      <th>grade</th>\n",
              "      <th>sub_grade</th>\n",
              "      <th>...</th>\n",
              "      <th>hardship_payoff_balance_amount</th>\n",
              "      <th>hardship_last_payment_amount</th>\n",
              "      <th>disbursement_method</th>\n",
              "      <th>debt_settlement_flag</th>\n",
              "      <th>debt_settlement_flag_date</th>\n",
              "      <th>settlement_status</th>\n",
              "      <th>settlement_date</th>\n",
              "      <th>settlement_amount</th>\n",
              "      <th>settlement_percentage</th>\n",
              "      <th>settlement_term</th>\n",
              "    </tr>\n",
              "  </thead>\n",
              "  <tbody>\n",
              "    <tr>\n",
              "      <th>0</th>\n",
              "      <td>NaN</td>\n",
              "      <td>NaN</td>\n",
              "      <td>2500</td>\n",
              "      <td>2500</td>\n",
              "      <td>2500</td>\n",
              "      <td>36 months</td>\n",
              "      <td>13.56</td>\n",
              "      <td>84.92</td>\n",
              "      <td>C</td>\n",
              "      <td>C1</td>\n",
              "      <td>...</td>\n",
              "      <td>NaN</td>\n",
              "      <td>NaN</td>\n",
              "      <td>Cash</td>\n",
              "      <td>N</td>\n",
              "      <td>NaN</td>\n",
              "      <td>NaN</td>\n",
              "      <td>NaN</td>\n",
              "      <td>NaN</td>\n",
              "      <td>NaN</td>\n",
              "      <td>NaN</td>\n",
              "    </tr>\n",
              "    <tr>\n",
              "      <th>1</th>\n",
              "      <td>NaN</td>\n",
              "      <td>NaN</td>\n",
              "      <td>30000</td>\n",
              "      <td>30000</td>\n",
              "      <td>30000</td>\n",
              "      <td>60 months</td>\n",
              "      <td>18.94</td>\n",
              "      <td>777.23</td>\n",
              "      <td>D</td>\n",
              "      <td>D2</td>\n",
              "      <td>...</td>\n",
              "      <td>NaN</td>\n",
              "      <td>NaN</td>\n",
              "      <td>Cash</td>\n",
              "      <td>N</td>\n",
              "      <td>NaN</td>\n",
              "      <td>NaN</td>\n",
              "      <td>NaN</td>\n",
              "      <td>NaN</td>\n",
              "      <td>NaN</td>\n",
              "      <td>NaN</td>\n",
              "    </tr>\n",
              "    <tr>\n",
              "      <th>2</th>\n",
              "      <td>NaN</td>\n",
              "      <td>NaN</td>\n",
              "      <td>5000</td>\n",
              "      <td>5000</td>\n",
              "      <td>5000</td>\n",
              "      <td>36 months</td>\n",
              "      <td>17.97</td>\n",
              "      <td>180.69</td>\n",
              "      <td>D</td>\n",
              "      <td>D1</td>\n",
              "      <td>...</td>\n",
              "      <td>NaN</td>\n",
              "      <td>NaN</td>\n",
              "      <td>Cash</td>\n",
              "      <td>N</td>\n",
              "      <td>NaN</td>\n",
              "      <td>NaN</td>\n",
              "      <td>NaN</td>\n",
              "      <td>NaN</td>\n",
              "      <td>NaN</td>\n",
              "      <td>NaN</td>\n",
              "    </tr>\n",
              "    <tr>\n",
              "      <th>3</th>\n",
              "      <td>NaN</td>\n",
              "      <td>NaN</td>\n",
              "      <td>4000</td>\n",
              "      <td>4000</td>\n",
              "      <td>4000</td>\n",
              "      <td>36 months</td>\n",
              "      <td>18.94</td>\n",
              "      <td>146.51</td>\n",
              "      <td>D</td>\n",
              "      <td>D2</td>\n",
              "      <td>...</td>\n",
              "      <td>NaN</td>\n",
              "      <td>NaN</td>\n",
              "      <td>Cash</td>\n",
              "      <td>N</td>\n",
              "      <td>NaN</td>\n",
              "      <td>NaN</td>\n",
              "      <td>NaN</td>\n",
              "      <td>NaN</td>\n",
              "      <td>NaN</td>\n",
              "      <td>NaN</td>\n",
              "    </tr>\n",
              "    <tr>\n",
              "      <th>4</th>\n",
              "      <td>NaN</td>\n",
              "      <td>NaN</td>\n",
              "      <td>30000</td>\n",
              "      <td>30000</td>\n",
              "      <td>30000</td>\n",
              "      <td>60 months</td>\n",
              "      <td>16.14</td>\n",
              "      <td>731.78</td>\n",
              "      <td>C</td>\n",
              "      <td>C4</td>\n",
              "      <td>...</td>\n",
              "      <td>NaN</td>\n",
              "      <td>NaN</td>\n",
              "      <td>Cash</td>\n",
              "      <td>N</td>\n",
              "      <td>NaN</td>\n",
              "      <td>NaN</td>\n",
              "      <td>NaN</td>\n",
              "      <td>NaN</td>\n",
              "      <td>NaN</td>\n",
              "      <td>NaN</td>\n",
              "    </tr>\n",
              "  </tbody>\n",
              "</table>\n",
              "<p>5 rows × 142 columns</p>\n",
              "</div>\n",
              "    <div class=\"colab-df-buttons\">\n",
              "\n",
              "  <div class=\"colab-df-container\">\n",
              "    <button class=\"colab-df-convert\" onclick=\"convertToInteractive('df-1442136b-7c45-4e5f-bc9e-18576250556a')\"\n",
              "            title=\"Convert this dataframe to an interactive table.\"\n",
              "            style=\"display:none;\">\n",
              "\n",
              "  <svg xmlns=\"http://www.w3.org/2000/svg\" height=\"24px\" viewBox=\"0 -960 960 960\">\n",
              "    <path d=\"M120-120v-720h720v720H120Zm60-500h600v-160H180v160Zm220 220h160v-160H400v160Zm0 220h160v-160H400v160ZM180-400h160v-160H180v160Zm440 0h160v-160H620v160ZM180-180h160v-160H180v160Zm440 0h160v-160H620v160Z\"/>\n",
              "  </svg>\n",
              "    </button>\n",
              "\n",
              "  <style>\n",
              "    .colab-df-container {\n",
              "      display:flex;\n",
              "      gap: 12px;\n",
              "    }\n",
              "\n",
              "    .colab-df-convert {\n",
              "      background-color: #E8F0FE;\n",
              "      border: none;\n",
              "      border-radius: 50%;\n",
              "      cursor: pointer;\n",
              "      display: none;\n",
              "      fill: #1967D2;\n",
              "      height: 32px;\n",
              "      padding: 0 0 0 0;\n",
              "      width: 32px;\n",
              "    }\n",
              "\n",
              "    .colab-df-convert:hover {\n",
              "      background-color: #E2EBFA;\n",
              "      box-shadow: 0px 1px 2px rgba(60, 64, 67, 0.3), 0px 1px 3px 1px rgba(60, 64, 67, 0.15);\n",
              "      fill: #174EA6;\n",
              "    }\n",
              "\n",
              "    .colab-df-buttons div {\n",
              "      margin-bottom: 4px;\n",
              "    }\n",
              "\n",
              "    [theme=dark] .colab-df-convert {\n",
              "      background-color: #3B4455;\n",
              "      fill: #D2E3FC;\n",
              "    }\n",
              "\n",
              "    [theme=dark] .colab-df-convert:hover {\n",
              "      background-color: #434B5C;\n",
              "      box-shadow: 0px 1px 3px 1px rgba(0, 0, 0, 0.15);\n",
              "      filter: drop-shadow(0px 1px 2px rgba(0, 0, 0, 0.3));\n",
              "      fill: #FFFFFF;\n",
              "    }\n",
              "  </style>\n",
              "\n",
              "    <script>\n",
              "      const buttonEl =\n",
              "        document.querySelector('#df-1442136b-7c45-4e5f-bc9e-18576250556a button.colab-df-convert');\n",
              "      buttonEl.style.display =\n",
              "        google.colab.kernel.accessAllowed ? 'block' : 'none';\n",
              "\n",
              "      async function convertToInteractive(key) {\n",
              "        const element = document.querySelector('#df-1442136b-7c45-4e5f-bc9e-18576250556a');\n",
              "        const dataTable =\n",
              "          await google.colab.kernel.invokeFunction('convertToInteractive',\n",
              "                                                    [key], {});\n",
              "        if (!dataTable) return;\n",
              "\n",
              "        const docLinkHtml = 'Like what you see? Visit the ' +\n",
              "          '<a target=\"_blank\" href=https://colab.research.google.com/notebooks/data_table.ipynb>data table notebook</a>'\n",
              "          + ' to learn more about interactive tables.';\n",
              "        element.innerHTML = '';\n",
              "        dataTable['output_type'] = 'display_data';\n",
              "        await google.colab.output.renderOutput(dataTable, element);\n",
              "        const docLink = document.createElement('div');\n",
              "        docLink.innerHTML = docLinkHtml;\n",
              "        element.appendChild(docLink);\n",
              "      }\n",
              "    </script>\n",
              "  </div>\n",
              "\n",
              "\n",
              "<div id=\"df-09d2600e-1804-4255-a6b3-1c437ac1e466\">\n",
              "  <button class=\"colab-df-quickchart\" onclick=\"quickchart('df-09d2600e-1804-4255-a6b3-1c437ac1e466')\"\n",
              "            title=\"Suggest charts.\"\n",
              "            style=\"display:none;\">\n",
              "\n",
              "<svg xmlns=\"http://www.w3.org/2000/svg\" height=\"24px\"viewBox=\"0 0 24 24\"\n",
              "     width=\"24px\">\n",
              "    <g>\n",
              "        <path d=\"M19 3H5c-1.1 0-2 .9-2 2v14c0 1.1.9 2 2 2h14c1.1 0 2-.9 2-2V5c0-1.1-.9-2-2-2zM9 17H7v-7h2v7zm4 0h-2V7h2v10zm4 0h-2v-4h2v4z\"/>\n",
              "    </g>\n",
              "</svg>\n",
              "  </button>\n",
              "\n",
              "<style>\n",
              "  .colab-df-quickchart {\n",
              "      --bg-color: #E8F0FE;\n",
              "      --fill-color: #1967D2;\n",
              "      --hover-bg-color: #E2EBFA;\n",
              "      --hover-fill-color: #174EA6;\n",
              "      --disabled-fill-color: #AAA;\n",
              "      --disabled-bg-color: #DDD;\n",
              "  }\n",
              "\n",
              "  [theme=dark] .colab-df-quickchart {\n",
              "      --bg-color: #3B4455;\n",
              "      --fill-color: #D2E3FC;\n",
              "      --hover-bg-color: #434B5C;\n",
              "      --hover-fill-color: #FFFFFF;\n",
              "      --disabled-bg-color: #3B4455;\n",
              "      --disabled-fill-color: #666;\n",
              "  }\n",
              "\n",
              "  .colab-df-quickchart {\n",
              "    background-color: var(--bg-color);\n",
              "    border: none;\n",
              "    border-radius: 50%;\n",
              "    cursor: pointer;\n",
              "    display: none;\n",
              "    fill: var(--fill-color);\n",
              "    height: 32px;\n",
              "    padding: 0;\n",
              "    width: 32px;\n",
              "  }\n",
              "\n",
              "  .colab-df-quickchart:hover {\n",
              "    background-color: var(--hover-bg-color);\n",
              "    box-shadow: 0 1px 2px rgba(60, 64, 67, 0.3), 0 1px 3px 1px rgba(60, 64, 67, 0.15);\n",
              "    fill: var(--button-hover-fill-color);\n",
              "  }\n",
              "\n",
              "  .colab-df-quickchart-complete:disabled,\n",
              "  .colab-df-quickchart-complete:disabled:hover {\n",
              "    background-color: var(--disabled-bg-color);\n",
              "    fill: var(--disabled-fill-color);\n",
              "    box-shadow: none;\n",
              "  }\n",
              "\n",
              "  .colab-df-spinner {\n",
              "    border: 2px solid var(--fill-color);\n",
              "    border-color: transparent;\n",
              "    border-bottom-color: var(--fill-color);\n",
              "    animation:\n",
              "      spin 1s steps(1) infinite;\n",
              "  }\n",
              "\n",
              "  @keyframes spin {\n",
              "    0% {\n",
              "      border-color: transparent;\n",
              "      border-bottom-color: var(--fill-color);\n",
              "      border-left-color: var(--fill-color);\n",
              "    }\n",
              "    20% {\n",
              "      border-color: transparent;\n",
              "      border-left-color: var(--fill-color);\n",
              "      border-top-color: var(--fill-color);\n",
              "    }\n",
              "    30% {\n",
              "      border-color: transparent;\n",
              "      border-left-color: var(--fill-color);\n",
              "      border-top-color: var(--fill-color);\n",
              "      border-right-color: var(--fill-color);\n",
              "    }\n",
              "    40% {\n",
              "      border-color: transparent;\n",
              "      border-right-color: var(--fill-color);\n",
              "      border-top-color: var(--fill-color);\n",
              "    }\n",
              "    60% {\n",
              "      border-color: transparent;\n",
              "      border-right-color: var(--fill-color);\n",
              "    }\n",
              "    80% {\n",
              "      border-color: transparent;\n",
              "      border-right-color: var(--fill-color);\n",
              "      border-bottom-color: var(--fill-color);\n",
              "    }\n",
              "    90% {\n",
              "      border-color: transparent;\n",
              "      border-bottom-color: var(--fill-color);\n",
              "    }\n",
              "  }\n",
              "</style>\n",
              "\n",
              "  <script>\n",
              "    async function quickchart(key) {\n",
              "      const quickchartButtonEl =\n",
              "        document.querySelector('#' + key + ' button');\n",
              "      quickchartButtonEl.disabled = true;  // To prevent multiple clicks.\n",
              "      quickchartButtonEl.classList.add('colab-df-spinner');\n",
              "      try {\n",
              "        const charts = await google.colab.kernel.invokeFunction(\n",
              "            'suggestCharts', [key], {});\n",
              "      } catch (error) {\n",
              "        console.error('Error during call to suggestCharts:', error);\n",
              "      }\n",
              "      quickchartButtonEl.classList.remove('colab-df-spinner');\n",
              "      quickchartButtonEl.classList.add('colab-df-quickchart-complete');\n",
              "    }\n",
              "    (() => {\n",
              "      let quickchartButtonEl =\n",
              "        document.querySelector('#df-09d2600e-1804-4255-a6b3-1c437ac1e466 button');\n",
              "      quickchartButtonEl.style.display =\n",
              "        google.colab.kernel.accessAllowed ? 'block' : 'none';\n",
              "    })();\n",
              "  </script>\n",
              "</div>\n",
              "    </div>\n",
              "  </div>\n"
            ]
          },
          "metadata": {},
          "execution_count": 3
        }
      ]
    },
    {
      "cell_type": "code",
      "source": [],
      "metadata": {
        "id": "N4Dbv0ekzte1"
      },
      "execution_count": null,
      "outputs": []
    },
    {
      "cell_type": "code",
      "source": [
        "raw_data.shape"
      ],
      "metadata": {
        "colab": {
          "base_uri": "https://localhost:8080/"
        },
        "id": "LfGUN8iTzzK1",
        "outputId": "5d008bf8-b0a3-466b-82ca-f0c78ddc385f"
      },
      "execution_count": 4,
      "outputs": [
        {
          "output_type": "execute_result",
          "data": {
            "text/plain": [
              "(20000, 142)"
            ]
          },
          "metadata": {},
          "execution_count": 4
        }
      ]
    },
    {
      "cell_type": "code",
      "source": [
        "raw_data.dtypes"
      ],
      "metadata": {
        "colab": {
          "base_uri": "https://localhost:8080/"
        },
        "id": "JykQZgCkz2Sl",
        "outputId": "fe042166-9266-4793-b84a-a5d675bdb054"
      },
      "execution_count": 5,
      "outputs": [
        {
          "output_type": "execute_result",
          "data": {
            "text/plain": [
              "id                       float64\n",
              "member_id                float64\n",
              "loan_amnt                  int64\n",
              "funded_amnt                int64\n",
              "funded_amnt_inv            int64\n",
              "                          ...   \n",
              "settlement_status        float64\n",
              "settlement_date          float64\n",
              "settlement_amount        float64\n",
              "settlement_percentage    float64\n",
              "settlement_term          float64\n",
              "Length: 142, dtype: object"
            ]
          },
          "metadata": {},
          "execution_count": 5
        }
      ]
    },
    {
      "cell_type": "code",
      "source": [
        "raw_data['loan_amnt'].describe()"
      ],
      "metadata": {
        "colab": {
          "base_uri": "https://localhost:8080/"
        },
        "id": "7HdN5Vzzz6n9",
        "outputId": "5e6af26d-50b9-4301-e381-fe400721d710"
      },
      "execution_count": 6,
      "outputs": [
        {
          "output_type": "execute_result",
          "data": {
            "text/plain": [
              "count    20000.000000\n",
              "mean     16111.383750\n",
              "std      10369.193761\n",
              "min       1000.000000\n",
              "25%       8000.000000\n",
              "50%      14000.000000\n",
              "75%      22000.000000\n",
              "max      40000.000000\n",
              "Name: loan_amnt, dtype: float64"
            ]
          },
          "metadata": {},
          "execution_count": 6
        }
      ]
    },
    {
      "cell_type": "code",
      "source": [
        "columns_to_remove = ['zip_code', 'policy_code', 'application_type', 'last_credit_pull_d',\n",
        "                     'verification_status', 'pymnt_plan', 'funded_amnt_inv', 'sub_grade',\n",
        "                     'out_prncp', 'out_prncp_inv', 'total_pymnt_inv', 'total_pymnt',\n",
        "                     'total_pymnt_inv', 'total_rec_prncp', 'total_rec_int', 'total_rec_late_fee',\n",
        "                     'recoveries', 'collection_recovery_fee', 'last_pymnt_d',\n",
        "                     'last_pymnt_amnt', 'initial_list_status']\n",
        "\n",
        "raw_data = raw_data.drop(columns=columns_to_remove, axis=1)"
      ],
      "metadata": {
        "id": "PmHRjV0Wz-bu"
      },
      "execution_count": 7,
      "outputs": []
    },
    {
      "cell_type": "code",
      "source": [
        "col_num = 0\n",
        "TotalObjects = raw_data.shape[0]\n",
        "print(\"Column\\t\\t\\t\\t\\t Null Values%\")\n",
        "for x in raw_data:\n",
        "    nullCount = raw_data[x].isnull().sum()\n",
        "    nullPercent = nullCount * 100 / TotalObjects\n",
        "    if nullCount > 0 and nullPercent > 20:\n",
        "        col_num = col_num + 1\n",
        "        raw_data.drop(x, axis=1, inplace=True)\n",
        "        print(str(x) + \"\\t\\t\\t\\t\\t\" + str(nullPercent))\n",
        "print(\"A total of \" + str(col_num) + \" columns deleted!\")"
      ],
      "metadata": {
        "colab": {
          "base_uri": "https://localhost:8080/"
        },
        "id": "kB1RJUwt0F91",
        "outputId": "10f2cdf6-2e47-4c34-fdfa-30eb6fa44e63"
      },
      "execution_count": 8,
      "outputs": [
        {
          "output_type": "stream",
          "name": "stdout",
          "text": [
            "Column\t\t\t\t\t Null Values%\n",
            "id\t\t\t\t\t100.0\n",
            "member_id\t\t\t\t\t100.0\n",
            "url\t\t\t\t\t100.0\n",
            "desc\t\t\t\t\t100.0\n",
            "mths_since_last_delinq\t\t\t\t\t56.375\n",
            "mths_since_last_record\t\t\t\t\t88.41\n",
            "mths_since_last_major_derog\t\t\t\t\t77.47\n",
            "annual_inc_joint\t\t\t\t\t87.845\n",
            "dti_joint\t\t\t\t\t87.845\n",
            "verification_status_joint\t\t\t\t\t89.17\n",
            "mths_since_recent_bc_dlq\t\t\t\t\t80.36\n",
            "mths_since_recent_revol_delinq\t\t\t\t\t71.3\n",
            "revol_bal_joint\t\t\t\t\t87.845\n",
            "sec_app_earliest_cr_line\t\t\t\t\t87.845\n",
            "sec_app_inq_last_6mths\t\t\t\t\t87.845\n",
            "sec_app_mort_acc\t\t\t\t\t87.845\n",
            "sec_app_open_acc\t\t\t\t\t87.845\n",
            "sec_app_revol_util\t\t\t\t\t88.0\n",
            "sec_app_open_act_il\t\t\t\t\t87.845\n",
            "sec_app_num_rev_accts\t\t\t\t\t87.845\n",
            "sec_app_chargeoff_within_12_mths\t\t\t\t\t87.845\n",
            "sec_app_collections_12_mths_ex_med\t\t\t\t\t87.845\n",
            "sec_app_mths_since_last_major_derog\t\t\t\t\t96.295\n",
            "hardship_type\t\t\t\t\t100.0\n",
            "hardship_reason\t\t\t\t\t100.0\n",
            "hardship_status\t\t\t\t\t100.0\n",
            "deferral_term\t\t\t\t\t100.0\n",
            "hardship_amount\t\t\t\t\t100.0\n",
            "hardship_start_date\t\t\t\t\t100.0\n",
            "hardship_end_date\t\t\t\t\t100.0\n",
            "payment_plan_start_date\t\t\t\t\t100.0\n",
            "hardship_length\t\t\t\t\t100.0\n",
            "hardship_dpd\t\t\t\t\t100.0\n",
            "hardship_loan_status\t\t\t\t\t100.0\n",
            "orig_projected_additional_accrued_interest\t\t\t\t\t100.0\n",
            "hardship_payoff_balance_amount\t\t\t\t\t100.0\n",
            "hardship_last_payment_amount\t\t\t\t\t100.0\n",
            "debt_settlement_flag_date\t\t\t\t\t100.0\n",
            "settlement_status\t\t\t\t\t100.0\n",
            "settlement_date\t\t\t\t\t100.0\n",
            "settlement_amount\t\t\t\t\t100.0\n",
            "settlement_percentage\t\t\t\t\t100.0\n",
            "settlement_term\t\t\t\t\t100.0\n",
            "A total of 43 columns deleted!\n"
          ]
        }
      ]
    },
    {
      "cell_type": "code",
      "source": [
        "remaining_missing_cols = raw_data.columns[raw_data.isnull().any()].tolist()\n",
        "print(\"Remaining columns with missing data:\")\n",
        "print(remaining_missing_cols)"
      ],
      "metadata": {
        "colab": {
          "base_uri": "https://localhost:8080/"
        },
        "id": "UO24YnKh0Mad",
        "outputId": "aca69d37-7af0-40fe-83e5-e8018cbe8cdb"
      },
      "execution_count": 9,
      "outputs": [
        {
          "output_type": "stream",
          "name": "stdout",
          "text": [
            "Remaining columns with missing data:\n",
            "['emp_title', 'emp_length', 'dti', 'revol_util', 'next_pymnt_d', 'mths_since_rcnt_il', 'all_util', 'avg_cur_bal', 'bc_open_to_buy', 'bc_util', 'mo_sin_old_il_acct', 'num_tl_120dpd_2m', 'percent_bc_gt_75']\n"
          ]
        }
      ]
    },
    {
      "cell_type": "code",
      "source": [
        "raw_data['next_pymnt_d'].fillna('Completed', inplace=True)"
      ],
      "metadata": {
        "id": "oWvc451H0dRs"
      },
      "execution_count": 10,
      "outputs": []
    },
    {
      "cell_type": "code",
      "source": [
        "columns_to_fill_with_zero = ['mths_since_rcnt_il', 'mo_sin_old_il_acct', 'bc_open_to_buy',\n",
        "                             'num_tl_120dpd_2m', 'bc_util', 'percent_bc_gt_75']\n",
        "raw_data[columns_to_fill_with_zero] = raw_data[columns_to_fill_with_zero].fillna(0)"
      ],
      "metadata": {
        "id": "eYI32sCf0kRo"
      },
      "execution_count": 11,
      "outputs": []
    },
    {
      "cell_type": "code",
      "source": [
        "columns_to_fill_with_mean = ['all_util', 'avg_cur_bal']\n",
        "raw_data[columns_to_fill_with_mean] = raw_data[columns_to_fill_with_mean].fillna(raw_data[columns_to_fill_with_mean].mean())"
      ],
      "metadata": {
        "id": "yQFhPN970mxY"
      },
      "execution_count": 12,
      "outputs": []
    },
    {
      "cell_type": "code",
      "source": [
        "print(\"Data shape after cleaning:\", raw_data.shape)\n",
        "print(\"First few rows of cleaned data:\")\n",
        "print(raw_data.head())"
      ],
      "metadata": {
        "colab": {
          "base_uri": "https://localhost:8080/"
        },
        "id": "C5TnrMqs0vQW",
        "outputId": "ee943879-6a8d-47ee-e60a-1347dc548290"
      },
      "execution_count": 13,
      "outputs": [
        {
          "output_type": "stream",
          "name": "stdout",
          "text": [
            "Data shape after cleaning: (20000, 79)\n",
            "First few rows of cleaned data:\n",
            "   loan_amnt  funded_amnt        term  int_rate  installment grade  \\\n",
            "0       2500         2500   36 months     13.56        84.92     C   \n",
            "1      30000        30000   60 months     18.94       777.23     D   \n",
            "2       5000         5000   36 months     17.97       180.69     D   \n",
            "3       4000         4000   36 months     18.94       146.51     D   \n",
            "4      30000        30000   60 months     16.14       731.78     C   \n",
            "\n",
            "        emp_title emp_length home_ownership  annual_inc  ... percent_bc_gt_75  \\\n",
            "0            Chef  10+ years           RENT     55000.0  ...              0.0   \n",
            "1     Postmaster   10+ years       MORTGAGE     90000.0  ...              0.0   \n",
            "2  Administrative    6 years       MORTGAGE     59280.0  ...              0.0   \n",
            "3   IT Supervisor  10+ years       MORTGAGE     92000.0  ...            100.0   \n",
            "4        Mechanic  10+ years       MORTGAGE     57250.0  ...              0.0   \n",
            "\n",
            "  pub_rec_bankruptcies tax_liens tot_hi_cred_lim total_bal_ex_mort  \\\n",
            "0                    1         0           60124             16901   \n",
            "1                    1         0          372872             99468   \n",
            "2                    0         0          136927             11749   \n",
            "3                    0         0          385183             36151   \n",
            "4                    0         0          157548             29674   \n",
            "\n",
            "   total_bc_limit  total_il_high_credit_limit hardship_flag  \\\n",
            "0           36500                       18124             N   \n",
            "1           15000                       94072             N   \n",
            "2           13800                       10000             N   \n",
            "3            5000                       44984             N   \n",
            "4            9300                       32332             N   \n",
            "\n",
            "   disbursement_method  debt_settlement_flag  \n",
            "0                 Cash                     N  \n",
            "1                 Cash                     N  \n",
            "2                 Cash                     N  \n",
            "3                 Cash                     N  \n",
            "4                 Cash                     N  \n",
            "\n",
            "[5 rows x 79 columns]\n"
          ]
        }
      ]
    },
    {
      "cell_type": "code",
      "source": [
        "raw_data['emp_length'].fillna(0, inplace=True)"
      ],
      "metadata": {
        "id": "RRN0P15C0yNl"
      },
      "execution_count": 14,
      "outputs": []
    },
    {
      "cell_type": "code",
      "source": [
        "def CalculateEmployeeLength(year):\n",
        "    if year == '< 1 year':\n",
        "        return 0.5\n",
        "    elif year == '10+ years':\n",
        "        return 10\n",
        "    else:\n",
        "        yr = str(year)\n",
        "        return float(yr.rstrip(' years'))"
      ],
      "metadata": {
        "id": "uX6-e_GQ04Al"
      },
      "execution_count": 15,
      "outputs": []
    },
    {
      "cell_type": "code",
      "source": [
        "raw_data['emp_length'] = raw_data['emp_length'].apply(CalculateEmployeeLength)"
      ],
      "metadata": {
        "id": "9xekk1Nx07p8"
      },
      "execution_count": 16,
      "outputs": []
    },
    {
      "cell_type": "code",
      "source": [
        "def CalculateLoanRanges(value):\n",
        "    if value <= 5000:\n",
        "        return '5K and Below'\n",
        "    elif value <= 10000:\n",
        "        return '5K-10K'\n",
        "    elif value <= 15000:\n",
        "        return '10K-15K'\n",
        "    elif value <= 20000:\n",
        "        return '15K-20K'\n",
        "    elif value <= 25000:\n",
        "        return '20K-25K'\n",
        "    elif value <= 30000:\n",
        "        return '25K-30K'\n",
        "    else:\n",
        "        return '30K and Above'\n",
        "def CalculateLoanRanges(value):\n",
        "    if value <= 5000:\n",
        "        return '5K and Below'\n",
        "    elif value <= 10000:\n",
        "        return '5K-10K'\n",
        "    elif value <= 15000:\n",
        "        return '10K-15K'\n",
        "    elif value <= 20000:\n",
        "        return '15K-20K'\n",
        "    elif value <= 25000:\n",
        "        return '20K-25K'\n",
        "    elif value <= 30000:\n",
        "        return '25K-30K'\n",
        "    else:\n",
        "        return '30K and Above'"
      ],
      "metadata": {
        "id": "tFLZJMkS1BjN"
      },
      "execution_count": 17,
      "outputs": []
    },
    {
      "cell_type": "code",
      "source": [
        "loan_ranges = raw_data['loan_amnt'].apply(CalculateLoanRanges)"
      ],
      "metadata": {
        "id": "oJSrRtd41EYs"
      },
      "execution_count": 18,
      "outputs": []
    },
    {
      "cell_type": "code",
      "source": [
        "loan_range_counts = loan_ranges.value_counts()"
      ],
      "metadata": {
        "id": "gNgiUsZb1Jel"
      },
      "execution_count": 19,
      "outputs": []
    },
    {
      "cell_type": "code",
      "source": [
        "plt.figure()\n",
        "loan_range_counts.plot.pie(autopct='%1.0f%%')\n",
        "plt.title('Pie Chart of Loan Amount Ranges')\n",
        "plt.show()"
      ],
      "metadata": {
        "colab": {
          "base_uri": "https://localhost:8080/",
          "height": 428
        },
        "id": "JQUzNz8d1OA9",
        "outputId": "595e683f-1c52-4ccb-fef2-62a1224d26fa"
      },
      "execution_count": 20,
      "outputs": [
        {
          "output_type": "display_data",
          "data": {
            "text/plain": [
              "<Figure size 640x480 with 1 Axes>"
            ],
            "image/png": "[encoded data removed]"
          },
          "metadata": {}
        }
      ]
    },
    {
      "cell_type": "code",
      "source": [
        "purposes = raw_data['purpose'].value_counts()\n",
        "purposes.plot(kind='bar')\n",
        "plt.title('Bar Chart of Loan Purposes')\n",
        "plt.xlabel('Loan Purpose')\n",
        "plt.ylabel('Count')\n",
        "plt.xticks(rotation=90)\n",
        "plt.show()"
      ],
      "metadata": {
        "colab": {
          "base_uri": "https://localhost:8080/",
          "height": 597
        },
        "id": "VCjpvqK41R0E",
        "outputId": "002cdbf1-b446-4717-b15f-1995ec24c33c"
      },
      "execution_count": 21,
      "outputs": [
        {
          "output_type": "display_data",
          "data": {
            "text/plain": [
              "<Figure size 640x480 with 1 Axes>"
            ],
            "image/png": "[encoded data removed]"
          },
          "metadata": {}
        }
      ]
    },
    {
      "cell_type": "code",
      "source": [
        "raw_data.to_csv('cleaned_loans2007.csv', index=False, encoding='utf-8')"
      ],
      "metadata": {
        "id": "kH7Qxe041XxV"
      },
      "execution_count": 22,
      "outputs": []
    }
  ]
}